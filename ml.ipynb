{
 "cells": [
  {
   "cell_type": "code",
   "execution_count": 14,
   "metadata": {},
   "outputs": [],
   "source": [
    "import sys\n",
    "import os\n",
    "import ujson\n",
    "import numpy as np\n",
    "import pandas as pd\n",
    "import requests\n",
    "import seaborn as sns\n",
    "from sklearn.linear_model import LinearRegression\n",
    "from epivizfileserver.measurements import WebServerMeasurement\n",
    "sys.path.insert(0,'C:/Users/Kyle/Documents/Python Scripts/Envs/research_epiviz/efeedcomputation/src/epivizfeedcompute')\n",
    "from stats import BaseStats, TtestBlock, TtestExp, Correlation, CorrelationGeneSignal, OverlapBlock\n",
    "import pickle\n"
   ]
  },
  {
   "cell_type": "code",
   "execution_count": 15,
   "metadata": {},
   "outputs": [],
   "source": [
    "data = []\n",
    "mid = \"lung_cancer\"\n",
    "start=1\n",
    "end=166151839\n",
    "signal_data = pd.read_csv('timp2014_probelevel_beta_202001091200.csv')[[\"chr\", \"start\", \"end\", \"lung_normal\", \"lung_cancer\"]]\n",
    "signal_data = signal_data.where((signal_data.start >= start) & (signal_data.end <= end))\n",
    "signal_data = signal_data.where((signal_data.chr != 'chrY'))\n",
    "signal_data = signal_data.dropna()"
   ]
  },
  {
   "cell_type": "code",
   "execution_count": 16,
   "metadata": {},
   "outputs": [
    {
     "data": {
      "text/html": [
       "<div>\n",
       "<style scoped>\n",
       "    .dataframe tbody tr th:only-of-type {\n",
       "        vertical-align: middle;\n",
       "    }\n",
       "\n",
       "    .dataframe tbody tr th {\n",
       "        vertical-align: top;\n",
       "    }\n",
       "\n",
       "    .dataframe thead th {\n",
       "        text-align: right;\n",
       "    }\n",
       "</style>\n",
       "<table border=\"1\" class=\"dataframe\">\n",
       "  <thead>\n",
       "    <tr style=\"text-align: right;\">\n",
       "      <th></th>\n",
       "      <th>chr</th>\n",
       "      <th>start</th>\n",
       "      <th>end</th>\n",
       "      <th>lung_normal</th>\n",
       "      <th>lung_cancer</th>\n",
       "    </tr>\n",
       "  </thead>\n",
       "  <tbody>\n",
       "    <tr>\n",
       "      <td>0</td>\n",
       "      <td>chr1</td>\n",
       "      <td>15865.0</td>\n",
       "      <td>15865.0</td>\n",
       "      <td>0.9026</td>\n",
       "      <td>0.8800</td>\n",
       "    </tr>\n",
       "    <tr>\n",
       "      <td>1</td>\n",
       "      <td>chr1</td>\n",
       "      <td>18827.0</td>\n",
       "      <td>18827.0</td>\n",
       "      <td>0.6465</td>\n",
       "      <td>0.6145</td>\n",
       "    </tr>\n",
       "    <tr>\n",
       "      <td>2</td>\n",
       "      <td>chr1</td>\n",
       "      <td>29407.0</td>\n",
       "      <td>29407.0</td>\n",
       "      <td>0.0731</td>\n",
       "      <td>0.0985</td>\n",
       "    </tr>\n",
       "    <tr>\n",
       "      <td>3</td>\n",
       "      <td>chr1</td>\n",
       "      <td>29425.0</td>\n",
       "      <td>29425.0</td>\n",
       "      <td>0.1858</td>\n",
       "      <td>0.2073</td>\n",
       "    </tr>\n",
       "    <tr>\n",
       "      <td>4</td>\n",
       "      <td>chr1</td>\n",
       "      <td>29435.0</td>\n",
       "      <td>29435.0</td>\n",
       "      <td>0.0391</td>\n",
       "      <td>0.0353</td>\n",
       "    </tr>\n",
       "    <tr>\n",
       "      <td>...</td>\n",
       "      <td>...</td>\n",
       "      <td>...</td>\n",
       "      <td>...</td>\n",
       "      <td>...</td>\n",
       "      <td>...</td>\n",
       "    </tr>\n",
       "    <tr>\n",
       "      <td>485091</td>\n",
       "      <td>chrX</td>\n",
       "      <td>154842736.0</td>\n",
       "      <td>154842736.0</td>\n",
       "      <td>0.1320</td>\n",
       "      <td>0.2107</td>\n",
       "    </tr>\n",
       "    <tr>\n",
       "      <td>485092</td>\n",
       "      <td>chrX</td>\n",
       "      <td>154842841.0</td>\n",
       "      <td>154842841.0</td>\n",
       "      <td>0.3342</td>\n",
       "      <td>0.3300</td>\n",
       "    </tr>\n",
       "    <tr>\n",
       "      <td>485093</td>\n",
       "      <td>chrX</td>\n",
       "      <td>154842856.0</td>\n",
       "      <td>154842856.0</td>\n",
       "      <td>0.5510</td>\n",
       "      <td>0.4668</td>\n",
       "    </tr>\n",
       "    <tr>\n",
       "      <td>485094</td>\n",
       "      <td>chrX</td>\n",
       "      <td>154843228.0</td>\n",
       "      <td>154843228.0</td>\n",
       "      <td>0.6587</td>\n",
       "      <td>0.6618</td>\n",
       "    </tr>\n",
       "    <tr>\n",
       "      <td>485095</td>\n",
       "      <td>chrX</td>\n",
       "      <td>154845915.0</td>\n",
       "      <td>154845915.0</td>\n",
       "      <td>0.9053</td>\n",
       "      <td>0.8822</td>\n",
       "    </tr>\n",
       "  </tbody>\n",
       "</table>\n",
       "<p>445476 rows × 5 columns</p>\n",
       "</div>"
      ],
      "text/plain": [
       "         chr        start          end  lung_normal  lung_cancer\n",
       "0       chr1      15865.0      15865.0       0.9026       0.8800\n",
       "1       chr1      18827.0      18827.0       0.6465       0.6145\n",
       "2       chr1      29407.0      29407.0       0.0731       0.0985\n",
       "3       chr1      29425.0      29425.0       0.1858       0.2073\n",
       "4       chr1      29435.0      29435.0       0.0391       0.0353\n",
       "...      ...          ...          ...          ...          ...\n",
       "485091  chrX  154842736.0  154842736.0       0.1320       0.2107\n",
       "485092  chrX  154842841.0  154842841.0       0.3342       0.3300\n",
       "485093  chrX  154842856.0  154842856.0       0.5510       0.4668\n",
       "485094  chrX  154843228.0  154843228.0       0.6587       0.6618\n",
       "485095  chrX  154845915.0  154845915.0       0.9053       0.8822\n",
       "\n",
       "[445476 rows x 5 columns]"
      ]
     },
     "execution_count": 16,
     "metadata": {},
     "output_type": "execute_result"
    }
   ],
   "source": [
    "signal_data"
   ]
  },
  {
   "cell_type": "code",
   "execution_count": 17,
   "metadata": {},
   "outputs": [],
   "source": [
    "# config_file = os.getcwd() + \"/config.json\"\n",
    "# config_measurements = []\n",
    "# with open(config_file, \"r\") as config_file:\n",
    "#     data = ujson.loads(config_file.read())\n",
    "#     # computations = data[\"computations\"]\n",
    "#     # info = data[\"dataSources\"]\n",
    "#     # pval_threshold = data[\"pval_threshold\"]\n",
    "#     if data[\"measurements\"] is not None:\n",
    "#         measurements = data[\"measurements\"]\n",
    "#         for m in measurements: \n",
    "#             tm = WebServerMeasurement(m['type'], m['id'], m['name'],  \"http://54.157.53.251/api/\", \n",
    "#                     m['datasourceId'], m['datasourceGroup'], m['annotation'], m['metadata'])\n",
    "#             if tm.annotation is None:\n",
    "#                 tm.annotation = {}\n",
    "#             tm.annotation[\"datatype\"] = m[\"datatype\"]\n",
    "#             config_measurements.append(tm)\n",
    "# #ESR1 chr6: 150204511 - 157531913\n",
    "# #ATOH7 chr10: 63661013 - 71027315\n",
    "# chrom = \"chr11\"\n",
    "# start=1\n",
    "# end=166151839\n",
    "# # filter for overlap measuremnets\n",
    "# overlap_measurements = [m for m in config_measurements if m.mid in [\"cpg_islands\", \"promoter\"] ]\n",
    "# overlap_measurements\n",
    "# data = []\n",
    "\n",
    "# for m in overlap_measurements:\n",
    "#     data.append(m.get_data(chrom, start, end))\n",
    "# print(\"done\")"
   ]
  },
  {
   "cell_type": "code",
   "execution_count": 18,
   "metadata": {},
   "outputs": [],
   "source": [
    "def split_n_buckets(dataframe, n):\n",
    "\n",
    "    means = []\n",
    "    dfs = np.array_split(dataframe, n,axis = 0) \n",
    "    for i in range(n):\n",
    "        means.append(np.mean(dfs[i]))\n",
    "    return means"
   ]
  },
  {
   "cell_type": "code",
   "execution_count": 19,
   "metadata": {},
   "outputs": [
    {
     "data": {
      "text/html": [
       "<div>\n",
       "<style scoped>\n",
       "    .dataframe tbody tr th:only-of-type {\n",
       "        vertical-align: middle;\n",
       "    }\n",
       "\n",
       "    .dataframe tbody tr th {\n",
       "        vertical-align: top;\n",
       "    }\n",
       "\n",
       "    .dataframe thead th {\n",
       "        text-align: right;\n",
       "    }\n",
       "</style>\n",
       "<table border=\"1\" class=\"dataframe\">\n",
       "  <thead>\n",
       "    <tr style=\"text-align: right;\">\n",
       "      <th></th>\n",
       "      <th>end</th>\n",
       "      <th>start</th>\n",
       "      <th>chr</th>\n",
       "      <th>lung___normal</th>\n",
       "      <th>lung___tumor</th>\n",
       "    </tr>\n",
       "  </thead>\n",
       "  <tbody>\n",
       "    <tr>\n",
       "      <td>0</td>\n",
       "      <td>894670.0</td>\n",
       "      <td>861118.0</td>\n",
       "      <td>chr1</td>\n",
       "      <td>0.0</td>\n",
       "      <td>0.025194</td>\n",
       "    </tr>\n",
       "    <tr>\n",
       "      <td>1</td>\n",
       "      <td>901095.0</td>\n",
       "      <td>895967.0</td>\n",
       "      <td>chr1</td>\n",
       "      <td>0.0</td>\n",
       "      <td>0.007752</td>\n",
       "    </tr>\n",
       "    <tr>\n",
       "      <td>2</td>\n",
       "      <td>901095.0</td>\n",
       "      <td>895967.0</td>\n",
       "      <td>chr1</td>\n",
       "      <td>0.0</td>\n",
       "      <td>0.003876</td>\n",
       "    </tr>\n",
       "    <tr>\n",
       "      <td>3</td>\n",
       "      <td>910488.0</td>\n",
       "      <td>901877.0</td>\n",
       "      <td>chr1</td>\n",
       "      <td>0.0</td>\n",
       "      <td>0.027132</td>\n",
       "    </tr>\n",
       "    <tr>\n",
       "      <td>4</td>\n",
       "      <td>917497.0</td>\n",
       "      <td>910579.0</td>\n",
       "      <td>chr1</td>\n",
       "      <td>0.0</td>\n",
       "      <td>0.007752</td>\n",
       "    </tr>\n",
       "  </tbody>\n",
       "</table>\n",
       "</div>"
      ],
      "text/plain": [
       "        end     start   chr  lung___normal  lung___tumor\n",
       "0  894670.0  861118.0  chr1            0.0      0.025194\n",
       "1  901095.0  895967.0  chr1            0.0      0.007752\n",
       "2  901095.0  895967.0  chr1            0.0      0.003876\n",
       "3  910488.0  901877.0  chr1            0.0      0.027132\n",
       "4  917497.0  910579.0  chr1            0.0      0.007752"
      ]
     },
     "execution_count": 19,
     "metadata": {},
     "output_type": "execute_result"
    }
   ],
   "source": [
    "dataF = pd.DataFrame() \n",
    "for i in range(1,23):\n",
    "    query = 'http://54.157.53.251/api/?requestId=11&version=5&action=getValues&datasourceGroup=umd&datasource=gene_expression_barcode_subtype&measurement=lung___tumor,lung___normal&seqName=chr{}&start=1&end=166151839&genome=&_=1573233064747'.format(i)\n",
    "    result = requests.get(query)\n",
    "    # res = umsgpack.unpackb(result.content)\n",
    "    res = result.json()\n",
    "\n",
    "    data = res['data']\n",
    "\n",
    "    if data['rows']['useOffset']:\n",
    "        data['rows']['values']['start'] = np.cumsum(data['rows']['values']['start'])\n",
    "        data['rows']['values']['end'] = np.cumsum(data['rows']['values']['end'])\n",
    "\n",
    "    # convert json to dataframe\n",
    "    records = {}\n",
    "\n",
    "    for key in data['rows']['values'].keys():\n",
    "        if key not in [\"id\", \"strand\", \"metadata\"]:\n",
    "            records[key] = data['rows']['values'][key]\n",
    "\n",
    "    for key in data['rows']['values']['metadata'].keys():\n",
    "        records[key] = data['rows']['values']['metadata'][key]\n",
    "\n",
    "    for key in data['values']['values'].keys():\n",
    "        records[key] = data['values']['values'][key]\n",
    "    temp = pd.DataFrame(records)\n",
    "    dataF = pd.concat([dataF,temp])\n",
    "\n",
    "dataF.head()\n"
   ]
  },
  {
   "cell_type": "code",
   "execution_count": 20,
   "metadata": {},
   "outputs": [],
   "source": [
    "for i in ['X']:\n",
    "    query = 'http://54.157.53.251/api/?requestId=11&version=5&action=getValues&datasourceGroup=umd&datasource=gene_expression_barcode_subtype&measurement=lung___tumor,lung___normal&seqName=chr{}&start=1&end=166151839&genome=&_=1573233064747'.format(i)\n",
    "    result = requests.get(query)\n",
    "    # res = umsgpack.unpackb(result.content)\n",
    "    res = result.json()\n",
    "\n",
    "    data = res['data']\n",
    "\n",
    "    if data['rows']['useOffset']:\n",
    "        data['rows']['values']['start'] = np.cumsum(data['rows']['values']['start'])\n",
    "        data['rows']['values']['end'] = np.cumsum(data['rows']['values']['end'])\n",
    "\n",
    "    # convert json to dataframe\n",
    "    records = {}\n",
    "\n",
    "    for key in data['rows']['values'].keys():\n",
    "        if key not in [\"id\", \"strand\", \"metadata\"]:\n",
    "            records[key] = data['rows']['values'][key]\n",
    "\n",
    "    for key in data['rows']['values']['metadata'].keys():\n",
    "        records[key] = data['rows']['values']['metadata'][key]\n",
    "\n",
    "    for key in data['values']['values'].keys():\n",
    "        records[key] = data['values']['values'][key]\n",
    "    temp = pd.DataFrame(records)\n",
    "    dataF = pd.concat([dataF,temp])\n"
   ]
  },
  {
   "cell_type": "code",
   "execution_count": 21,
   "metadata": {},
   "outputs": [
    {
     "data": {
      "text/plain": [
       "(28589, 5)"
      ]
     },
     "execution_count": 21,
     "metadata": {},
     "output_type": "execute_result"
    }
   ],
   "source": [
    "dataF.shape\n",
    "# dataF['chr'].unique()"
   ]
  },
  {
   "cell_type": "code",
   "execution_count": 9,
   "metadata": {},
   "outputs": [],
   "source": [
    "in_gene = []\n",
    "methy_upstream = []\n",
    "methy_downstream = []\n",
    "upstream = 1000\n",
    "downstream = 3000\n",
    "for index, row in dataF.iterrows():\n",
    "    in_gene_buckets = split_n_buckets(signal_data.where(((row.start <= signal_data.start) & (signal_data.start <= row.end)) | ((row.start <= signal_data.end) & (signal_data.end <= row.end))).fillna(0)[mid].tolist(), 20)\n",
    "    methy_upstream_buckets = split_n_buckets(signal_data.where(((row.start - upstream<= signal_data.start) & (signal_data.start <= row.end)) | ((row.start - upstream <= signal_data.end) & (signal_data.end <= row.end))).fillna(0)[mid].tolist(), 10)\n",
    "    methy_downstream_buckets = split_n_buckets(signal_data.where(((row.start <= signal_data.start) & (signal_data.start <= row.end + downstream)) | ((row.start <= signal_data.end) & (signal_data.end <= row.end + downstream))).fillna(0)[mid].tolist(), 10)\n",
    "    in_gene.append(in_gene_buckets)\n",
    "    methy_upstream.append(methy_upstream_buckets)\n",
    "    methy_downstream.append(methy_downstream_buckets)\n"
   ]
  },
  {
   "cell_type": "code",
   "execution_count": null,
   "metadata": {},
   "outputs": [],
   "source": [
    "\n",
    "in_gene = []\n",
    "methy_upstream = []\n",
    "methy_downstream = []\n",
    "upstream = 1000\n",
    "downstream = 3000\n",
    "for index, row in dataF.iterrows():\n",
    "    in_gene.append(signal_data.where(((row.start <= signal_data.start) & (signal_data.start <= row.end)) | ((row.start <= signal_data.end) & (signal_data.end <= row.end))).mean().fillna(0)[mid])\n",
    "    methy_upstream.append(signal_data.where(((row.start - upstream<= signal_data.start) & (signal_data.start <= row.end)) | ((row.start - upstream <= signal_data.end) & (signal_data.end <= row.end))).mean().fillna(0)[mid])\n",
    "    methy_downstream.append(signal_data.where(((row.start <= signal_data.start) & (signal_data.start <= row.end + downstream)) | ((row.start <= signal_data.end) & (signal_data.end <= row.end + downstream))).mean().fillna(0)[mid])\n"
   ]
  },
  {
   "cell_type": "code",
   "execution_count": 10,
   "metadata": {},
   "outputs": [],
   "source": [
    "pickle.dump( in_gene, open( \"in_gene_tumor_buckets.p\", \"wb\" ) )\n",
    "\n",
    "pickle.dump( methy_upstream, open( \"methy_upstream_tumor_buckets.p\", \"wb\" ) )\n",
    "\n",
    "pickle.dump( methy_downstream, open( \"methy_downstream_tumor_buckets.p\", \"wb\" ) )"
   ]
  },
  {
   "cell_type": "code",
   "execution_count": 12,
   "metadata": {},
   "outputs": [
    {
     "data": {
      "text/plain": [
       "28589"
      ]
     },
     "execution_count": 12,
     "metadata": {},
     "output_type": "execute_result"
    }
   ],
   "source": [
    "len(in_gene)"
   ]
  },
  {
   "cell_type": "code",
   "execution_count": null,
   "metadata": {},
   "outputs": [],
   "source": [
    "os.getcwd()"
   ]
  },
  {
   "cell_type": "code",
   "execution_count": 8,
   "metadata": {},
   "outputs": [],
   "source": [
    "in_gene = pickle.load( open( \"in_gene.p\", \"rb\" ) )\n",
    "methy_upstream = pickle.load( open( \"methy_upstream.p\", \"rb\" ) )\n",
    "methy_downstream = pickle.load( open( \"methy_downstream.p\", \"rb\" ) )"
   ]
  },
  {
   "cell_type": "code",
   "execution_count": 22,
   "metadata": {},
   "outputs": [],
   "source": [
    "in_gene = pickle.load( open( \"in_gene_tumor_buckets.p\", \"rb\" ) )\n",
    "methy_upstream = pickle.load( open( \"methy_upstream_tumor_buckets.p\", \"rb\" ) )\n",
    "methy_downstream = pickle.load( open( \"methy_downstream_tumor_buckets.p\", \"rb\" ) )"
   ]
  },
  {
   "cell_type": "code",
   "execution_count": 23,
   "metadata": {},
   "outputs": [],
   "source": [
    "col_names = []\n",
    "for i in range(20):\n",
    "    col_names.append(\"in_gene {}\".format(i))\n",
    "in_gene_df = pd.DataFrame(in_gene, columns = col_names)\n",
    "\n",
    "col_names = []\n",
    "for i in range(10):\n",
    "    col_names.append(\"upstream {}\".format(i))\n",
    "upstream_df = pd.DataFrame(methy_upstream, columns = col_names)\n",
    "\n",
    "col_names = []\n",
    "for i in range(10):\n",
    "    col_names.append(\"downstream {}\".format(i))\n",
    "downstream_df = pd.DataFrame(methy_downstream, columns = col_names)"
   ]
  },
  {
   "cell_type": "code",
   "execution_count": 24,
   "metadata": {},
   "outputs": [],
   "source": [
    "X = pd.concat([in_gene_df,upstream_df,downstream_df], axis=1)\n",
    "y = pd.Series(dataF[\"lung___tumor\"])"
   ]
  },
  {
   "cell_type": "code",
   "execution_count": 19,
   "metadata": {},
   "outputs": [],
   "source": [
    "X = pd.DataFrame({'at_gene': in_gene, 'upstream_1000': methy_upstream, 'downstream_3000': methy_downstream}) \n",
    "y = pd.Series(dataF[\"lung___tumor\"])\n",
    "\n",
    "X [\"expr\"] = y\n",
    "X = X.dropna()\n",
    "y = X [\"expr\"]\n",
    "X = X[[\"at_gene\", \"upstream_1000\", \"downstream_3000\"]]"
   ]
  },
  {
   "cell_type": "code",
   "execution_count": 25,
   "metadata": {},
   "outputs": [
    {
     "data": {
      "text/html": [
       "<div>\n",
       "<style scoped>\n",
       "    .dataframe tbody tr th:only-of-type {\n",
       "        vertical-align: middle;\n",
       "    }\n",
       "\n",
       "    .dataframe tbody tr th {\n",
       "        vertical-align: top;\n",
       "    }\n",
       "\n",
       "    .dataframe thead th {\n",
       "        text-align: right;\n",
       "    }\n",
       "</style>\n",
       "<table border=\"1\" class=\"dataframe\">\n",
       "  <thead>\n",
       "    <tr style=\"text-align: right;\">\n",
       "      <th></th>\n",
       "      <th>in_gene 0</th>\n",
       "      <th>in_gene 1</th>\n",
       "      <th>in_gene 2</th>\n",
       "      <th>in_gene 3</th>\n",
       "      <th>in_gene 4</th>\n",
       "      <th>in_gene 5</th>\n",
       "      <th>in_gene 6</th>\n",
       "      <th>in_gene 7</th>\n",
       "      <th>in_gene 8</th>\n",
       "      <th>in_gene 9</th>\n",
       "      <th>...</th>\n",
       "      <th>downstream 0</th>\n",
       "      <th>downstream 1</th>\n",
       "      <th>downstream 2</th>\n",
       "      <th>downstream 3</th>\n",
       "      <th>downstream 4</th>\n",
       "      <th>downstream 5</th>\n",
       "      <th>downstream 6</th>\n",
       "      <th>downstream 7</th>\n",
       "      <th>downstream 8</th>\n",
       "      <th>downstream 9</th>\n",
       "    </tr>\n",
       "  </thead>\n",
       "  <tbody>\n",
       "    <tr>\n",
       "      <td>0</td>\n",
       "      <td>0.001413</td>\n",
       "      <td>0.000705</td>\n",
       "      <td>0.000001</td>\n",
       "      <td>0.002982</td>\n",
       "      <td>0.001681</td>\n",
       "      <td>0.000237</td>\n",
       "      <td>0.001888</td>\n",
       "      <td>0.000000</td>\n",
       "      <td>0.000891</td>\n",
       "      <td>0.00014</td>\n",
       "      <td>...</td>\n",
       "      <td>0.001171</td>\n",
       "      <td>0.001576</td>\n",
       "      <td>0.000980</td>\n",
       "      <td>0.001062</td>\n",
       "      <td>0.000539</td>\n",
       "      <td>0.000718</td>\n",
       "      <td>0.0</td>\n",
       "      <td>0.001323</td>\n",
       "      <td>0.000517</td>\n",
       "      <td>0.000109</td>\n",
       "    </tr>\n",
       "    <tr>\n",
       "      <td>1</td>\n",
       "      <td>0.000530</td>\n",
       "      <td>0.000022</td>\n",
       "      <td>0.000000</td>\n",
       "      <td>0.000469</td>\n",
       "      <td>0.000000</td>\n",
       "      <td>0.000083</td>\n",
       "      <td>0.000340</td>\n",
       "      <td>0.000000</td>\n",
       "      <td>0.000154</td>\n",
       "      <td>0.00000</td>\n",
       "      <td>...</td>\n",
       "      <td>0.000333</td>\n",
       "      <td>0.000429</td>\n",
       "      <td>0.000080</td>\n",
       "      <td>0.000189</td>\n",
       "      <td>0.000077</td>\n",
       "      <td>0.000000</td>\n",
       "      <td>0.0</td>\n",
       "      <td>0.000341</td>\n",
       "      <td>0.000199</td>\n",
       "      <td>0.000068</td>\n",
       "    </tr>\n",
       "    <tr>\n",
       "      <td>2</td>\n",
       "      <td>0.000530</td>\n",
       "      <td>0.000022</td>\n",
       "      <td>0.000000</td>\n",
       "      <td>0.000469</td>\n",
       "      <td>0.000000</td>\n",
       "      <td>0.000083</td>\n",
       "      <td>0.000340</td>\n",
       "      <td>0.000000</td>\n",
       "      <td>0.000154</td>\n",
       "      <td>0.00000</td>\n",
       "      <td>...</td>\n",
       "      <td>0.000333</td>\n",
       "      <td>0.000429</td>\n",
       "      <td>0.000080</td>\n",
       "      <td>0.000189</td>\n",
       "      <td>0.000077</td>\n",
       "      <td>0.000000</td>\n",
       "      <td>0.0</td>\n",
       "      <td>0.000341</td>\n",
       "      <td>0.000199</td>\n",
       "      <td>0.000068</td>\n",
       "    </tr>\n",
       "    <tr>\n",
       "      <td>3</td>\n",
       "      <td>0.000320</td>\n",
       "      <td>0.000264</td>\n",
       "      <td>0.000000</td>\n",
       "      <td>0.000843</td>\n",
       "      <td>0.000039</td>\n",
       "      <td>0.000000</td>\n",
       "      <td>0.000655</td>\n",
       "      <td>0.000000</td>\n",
       "      <td>0.000000</td>\n",
       "      <td>0.00000</td>\n",
       "      <td>...</td>\n",
       "      <td>0.000400</td>\n",
       "      <td>0.000437</td>\n",
       "      <td>0.000124</td>\n",
       "      <td>0.000329</td>\n",
       "      <td>0.000018</td>\n",
       "      <td>0.000072</td>\n",
       "      <td>0.0</td>\n",
       "      <td>0.000501</td>\n",
       "      <td>0.000239</td>\n",
       "      <td>0.000000</td>\n",
       "    </tr>\n",
       "    <tr>\n",
       "      <td>4</td>\n",
       "      <td>0.000225</td>\n",
       "      <td>0.000191</td>\n",
       "      <td>0.000000</td>\n",
       "      <td>0.000031</td>\n",
       "      <td>0.000247</td>\n",
       "      <td>0.000003</td>\n",
       "      <td>0.000159</td>\n",
       "      <td>0.000000</td>\n",
       "      <td>0.000405</td>\n",
       "      <td>0.00000</td>\n",
       "      <td>...</td>\n",
       "      <td>0.000301</td>\n",
       "      <td>0.000016</td>\n",
       "      <td>0.000144</td>\n",
       "      <td>0.000177</td>\n",
       "      <td>0.000220</td>\n",
       "      <td>0.000152</td>\n",
       "      <td>0.0</td>\n",
       "      <td>0.000352</td>\n",
       "      <td>0.000151</td>\n",
       "      <td>0.000000</td>\n",
       "    </tr>\n",
       "    <tr>\n",
       "      <td>...</td>\n",
       "      <td>...</td>\n",
       "      <td>...</td>\n",
       "      <td>...</td>\n",
       "      <td>...</td>\n",
       "      <td>...</td>\n",
       "      <td>...</td>\n",
       "      <td>...</td>\n",
       "      <td>...</td>\n",
       "      <td>...</td>\n",
       "      <td>...</td>\n",
       "      <td>...</td>\n",
       "      <td>...</td>\n",
       "      <td>...</td>\n",
       "      <td>...</td>\n",
       "      <td>...</td>\n",
       "      <td>...</td>\n",
       "      <td>...</td>\n",
       "      <td>...</td>\n",
       "      <td>...</td>\n",
       "      <td>...</td>\n",
       "      <td>...</td>\n",
       "    </tr>\n",
       "    <tr>\n",
       "      <td>28584</td>\n",
       "      <td>0.000000</td>\n",
       "      <td>0.000523</td>\n",
       "      <td>0.000035</td>\n",
       "      <td>0.000000</td>\n",
       "      <td>0.000000</td>\n",
       "      <td>0.000000</td>\n",
       "      <td>0.000036</td>\n",
       "      <td>0.000039</td>\n",
       "      <td>0.000000</td>\n",
       "      <td>0.00000</td>\n",
       "      <td>...</td>\n",
       "      <td>0.000324</td>\n",
       "      <td>0.000018</td>\n",
       "      <td>0.000000</td>\n",
       "      <td>0.000083</td>\n",
       "      <td>0.000000</td>\n",
       "      <td>0.000000</td>\n",
       "      <td>0.0</td>\n",
       "      <td>0.000000</td>\n",
       "      <td>0.000000</td>\n",
       "      <td>0.000000</td>\n",
       "    </tr>\n",
       "    <tr>\n",
       "      <td>28585</td>\n",
       "      <td>0.000000</td>\n",
       "      <td>0.000162</td>\n",
       "      <td>0.000000</td>\n",
       "      <td>0.000000</td>\n",
       "      <td>0.000104</td>\n",
       "      <td>0.000000</td>\n",
       "      <td>0.000030</td>\n",
       "      <td>0.000247</td>\n",
       "      <td>0.000000</td>\n",
       "      <td>0.00000</td>\n",
       "      <td>...</td>\n",
       "      <td>0.000081</td>\n",
       "      <td>0.000000</td>\n",
       "      <td>0.000072</td>\n",
       "      <td>0.000172</td>\n",
       "      <td>0.000000</td>\n",
       "      <td>0.000000</td>\n",
       "      <td>0.0</td>\n",
       "      <td>0.000000</td>\n",
       "      <td>0.000000</td>\n",
       "      <td>0.000000</td>\n",
       "    </tr>\n",
       "    <tr>\n",
       "      <td>28586</td>\n",
       "      <td>0.000000</td>\n",
       "      <td>0.000162</td>\n",
       "      <td>0.000000</td>\n",
       "      <td>0.000000</td>\n",
       "      <td>0.000104</td>\n",
       "      <td>0.000000</td>\n",
       "      <td>0.000030</td>\n",
       "      <td>0.000247</td>\n",
       "      <td>0.000000</td>\n",
       "      <td>0.00000</td>\n",
       "      <td>...</td>\n",
       "      <td>0.000081</td>\n",
       "      <td>0.000000</td>\n",
       "      <td>0.000072</td>\n",
       "      <td>0.000172</td>\n",
       "      <td>0.000000</td>\n",
       "      <td>0.000000</td>\n",
       "      <td>0.0</td>\n",
       "      <td>0.000000</td>\n",
       "      <td>0.000000</td>\n",
       "      <td>0.000000</td>\n",
       "    </tr>\n",
       "    <tr>\n",
       "      <td>28587</td>\n",
       "      <td>0.000000</td>\n",
       "      <td>0.000162</td>\n",
       "      <td>0.000000</td>\n",
       "      <td>0.000000</td>\n",
       "      <td>0.000104</td>\n",
       "      <td>0.000000</td>\n",
       "      <td>0.000030</td>\n",
       "      <td>0.000247</td>\n",
       "      <td>0.000000</td>\n",
       "      <td>0.00000</td>\n",
       "      <td>...</td>\n",
       "      <td>0.000081</td>\n",
       "      <td>0.000000</td>\n",
       "      <td>0.000072</td>\n",
       "      <td>0.000172</td>\n",
       "      <td>0.000000</td>\n",
       "      <td>0.000000</td>\n",
       "      <td>0.0</td>\n",
       "      <td>0.000000</td>\n",
       "      <td>0.000000</td>\n",
       "      <td>0.000000</td>\n",
       "    </tr>\n",
       "    <tr>\n",
       "      <td>28588</td>\n",
       "      <td>0.000000</td>\n",
       "      <td>0.000162</td>\n",
       "      <td>0.000000</td>\n",
       "      <td>0.000000</td>\n",
       "      <td>0.000104</td>\n",
       "      <td>0.000000</td>\n",
       "      <td>0.000030</td>\n",
       "      <td>0.000247</td>\n",
       "      <td>0.000000</td>\n",
       "      <td>0.00000</td>\n",
       "      <td>...</td>\n",
       "      <td>0.000081</td>\n",
       "      <td>0.000000</td>\n",
       "      <td>0.000072</td>\n",
       "      <td>0.000172</td>\n",
       "      <td>0.000000</td>\n",
       "      <td>0.000000</td>\n",
       "      <td>0.0</td>\n",
       "      <td>0.000000</td>\n",
       "      <td>0.000000</td>\n",
       "      <td>0.000000</td>\n",
       "    </tr>\n",
       "  </tbody>\n",
       "</table>\n",
       "<p>28589 rows × 40 columns</p>\n",
       "</div>"
      ],
      "text/plain": [
       "       in_gene 0  in_gene 1  in_gene 2  in_gene 3  in_gene 4  in_gene 5  \\\n",
       "0       0.001413   0.000705   0.000001   0.002982   0.001681   0.000237   \n",
       "1       0.000530   0.000022   0.000000   0.000469   0.000000   0.000083   \n",
       "2       0.000530   0.000022   0.000000   0.000469   0.000000   0.000083   \n",
       "3       0.000320   0.000264   0.000000   0.000843   0.000039   0.000000   \n",
       "4       0.000225   0.000191   0.000000   0.000031   0.000247   0.000003   \n",
       "...          ...        ...        ...        ...        ...        ...   \n",
       "28584   0.000000   0.000523   0.000035   0.000000   0.000000   0.000000   \n",
       "28585   0.000000   0.000162   0.000000   0.000000   0.000104   0.000000   \n",
       "28586   0.000000   0.000162   0.000000   0.000000   0.000104   0.000000   \n",
       "28587   0.000000   0.000162   0.000000   0.000000   0.000104   0.000000   \n",
       "28588   0.000000   0.000162   0.000000   0.000000   0.000104   0.000000   \n",
       "\n",
       "       in_gene 6  in_gene 7  in_gene 8  in_gene 9  ...  downstream 0  \\\n",
       "0       0.001888   0.000000   0.000891    0.00014  ...      0.001171   \n",
       "1       0.000340   0.000000   0.000154    0.00000  ...      0.000333   \n",
       "2       0.000340   0.000000   0.000154    0.00000  ...      0.000333   \n",
       "3       0.000655   0.000000   0.000000    0.00000  ...      0.000400   \n",
       "4       0.000159   0.000000   0.000405    0.00000  ...      0.000301   \n",
       "...          ...        ...        ...        ...  ...           ...   \n",
       "28584   0.000036   0.000039   0.000000    0.00000  ...      0.000324   \n",
       "28585   0.000030   0.000247   0.000000    0.00000  ...      0.000081   \n",
       "28586   0.000030   0.000247   0.000000    0.00000  ...      0.000081   \n",
       "28587   0.000030   0.000247   0.000000    0.00000  ...      0.000081   \n",
       "28588   0.000030   0.000247   0.000000    0.00000  ...      0.000081   \n",
       "\n",
       "       downstream 1  downstream 2  downstream 3  downstream 4  downstream 5  \\\n",
       "0          0.001576      0.000980      0.001062      0.000539      0.000718   \n",
       "1          0.000429      0.000080      0.000189      0.000077      0.000000   \n",
       "2          0.000429      0.000080      0.000189      0.000077      0.000000   \n",
       "3          0.000437      0.000124      0.000329      0.000018      0.000072   \n",
       "4          0.000016      0.000144      0.000177      0.000220      0.000152   \n",
       "...             ...           ...           ...           ...           ...   \n",
       "28584      0.000018      0.000000      0.000083      0.000000      0.000000   \n",
       "28585      0.000000      0.000072      0.000172      0.000000      0.000000   \n",
       "28586      0.000000      0.000072      0.000172      0.000000      0.000000   \n",
       "28587      0.000000      0.000072      0.000172      0.000000      0.000000   \n",
       "28588      0.000000      0.000072      0.000172      0.000000      0.000000   \n",
       "\n",
       "       downstream 6  downstream 7  downstream 8  downstream 9  \n",
       "0               0.0      0.001323      0.000517      0.000109  \n",
       "1               0.0      0.000341      0.000199      0.000068  \n",
       "2               0.0      0.000341      0.000199      0.000068  \n",
       "3               0.0      0.000501      0.000239      0.000000  \n",
       "4               0.0      0.000352      0.000151      0.000000  \n",
       "...             ...           ...           ...           ...  \n",
       "28584           0.0      0.000000      0.000000      0.000000  \n",
       "28585           0.0      0.000000      0.000000      0.000000  \n",
       "28586           0.0      0.000000      0.000000      0.000000  \n",
       "28587           0.0      0.000000      0.000000      0.000000  \n",
       "28588           0.0      0.000000      0.000000      0.000000  \n",
       "\n",
       "[28589 rows x 40 columns]"
      ]
     },
     "execution_count": 25,
     "metadata": {},
     "output_type": "execute_result"
    }
   ],
   "source": [
    "X"
   ]
  },
  {
   "cell_type": "code",
   "execution_count": 222,
   "metadata": {},
   "outputs": [],
   "source": [
    "from sklearn.model_selection import train_test_split"
   ]
  },
  {
   "cell_type": "code",
   "execution_count": 259,
   "metadata": {},
   "outputs": [],
   "source": [
    "X_train, X_test, y_train, y_test = train_test_split( X, y, test_size=0.2)\n",
    "n_timesteps, n_features, n_outputs = X_train.shape[0], X_train.shape[1], y_train.shape[0]"
   ]
  },
  {
   "cell_type": "code",
   "execution_count": 260,
   "metadata": {},
   "outputs": [],
   "source": [
    "import tensorflow as tf\n",
    "import keras\n",
    "from keras.models import Sequential\n",
    "from keras.layers import Dense, Dropout, Activation, Flatten\n",
    "from keras.layers import Conv1D, MaxPooling1D\n",
    "from keras.layers.core import Reshape"
   ]
  },
  {
   "cell_type": "code",
   "execution_count": 261,
   "metadata": {},
   "outputs": [
    {
     "name": "stdout",
     "output_type": "stream",
     "text": [
      "Model: \"sequential_40\"\n",
      "_________________________________________________________________\n",
      "Layer (type)                 Output Shape              Param #   \n",
      "=================================================================\n",
      "conv1d_40 (Conv1D)           (None, 31, 1)             11        \n",
      "_________________________________________________________________\n",
      "flatten_40 (Flatten)         (None, 31)                0         \n",
      "_________________________________________________________________\n",
      "dense_122 (Dense)            (None, 500)               16000     \n",
      "_________________________________________________________________\n",
      "dense_123 (Dense)            (None, 250)               125250    \n",
      "_________________________________________________________________\n",
      "dense_124 (Dense)            (None, 1)                 251       \n",
      "=================================================================\n",
      "Total params: 141,512\n",
      "Trainable params: 141,512\n",
      "Non-trainable params: 0\n",
      "_________________________________________________________________\n",
      "None\n"
     ]
    }
   ],
   "source": [
    "verbose, epochs, batch_size = 0, 50, 85\n",
    "\n",
    "model = Sequential()\n",
    "model.add(Conv1D(filters=1, kernel_size=10, activation='relu', input_shape=(n_features, 1)))\n",
    "# model.add(Dropout(0.5)\n",
    "# model.add(MaxPooling1D(pool_size=2))\n",
    "model.add(Flatten())\n",
    "model.add(Dense(500, activation='relu'))\n",
    "model.add(Dense(250, activation='relu'))\n",
    "# model.add(Dense(125, activation='relu'))\n",
    "model.add(Dense(1, activation='softmax'))\n",
    "model.compile(loss='mean_squared_error', optimizer='sgd', metrics=['accuracy'])\n",
    "print(model.summary())"
   ]
  },
  {
   "cell_type": "code",
   "execution_count": 262,
   "metadata": {},
   "outputs": [],
   "source": [
    "X_train = np.expand_dims(X_train, axis=2)\n",
    "X_test = np.expand_dims(X_test, axis=2)\n",
    "y_train = np.array(y_train)\n",
    "# X_train = np.reshape(X_train,(1, X_train.shape[0], X_train.shape[1]))"
   ]
  },
  {
   "cell_type": "code",
   "execution_count": 263,
   "metadata": {},
   "outputs": [
    {
     "data": {
      "text/plain": [
       "(1415, 40, 1)"
      ]
     },
     "execution_count": 263,
     "metadata": {},
     "output_type": "execute_result"
    }
   ],
   "source": [
    "X_train.shape"
   ]
  },
  {
   "cell_type": "code",
   "execution_count": 264,
   "metadata": {},
   "outputs": [
    {
     "data": {
      "text/plain": [
       "0.10734463483095169"
      ]
     },
     "execution_count": 264,
     "metadata": {},
     "output_type": "execute_result"
    }
   ],
   "source": [
    "\n",
    "model.fit(X_train, y_train, epochs=epochs, batch_size=batch_size, verbose=verbose)\n",
    "_, accuracy = model.evaluate(X_test, y_test, batch_size=batch_size, verbose=0)\n",
    "accuracy"
   ]
  },
  {
   "cell_type": "code",
   "execution_count": 185,
   "metadata": {},
   "outputs": [
    {
     "data": {
      "text/plain": [
       "0.10734463483095169"
      ]
     },
     "execution_count": 185,
     "metadata": {},
     "output_type": "execute_result"
    }
   ],
   "source": [
    "accuracy"
   ]
  },
  {
   "cell_type": "code",
   "execution_count": null,
   "metadata": {},
   "outputs": [],
   "source": [
    "sns.pairplot(X)"
   ]
  },
  {
   "cell_type": "code",
   "execution_count": 25,
   "metadata": {},
   "outputs": [
    {
     "data": {
      "text/plain": [
       "1542"
      ]
     },
     "execution_count": 25,
     "metadata": {},
     "output_type": "execute_result"
    }
   ],
   "source": [
    "np.count_nonzero(y) "
   ]
  },
  {
   "cell_type": "code",
   "execution_count": 26,
   "metadata": {},
   "outputs": [
    {
     "name": "stdout",
     "output_type": "stream",
     "text": [
      "0.0623584886969597\n"
     ]
    }
   ],
   "source": [
    "\n",
    "# fake_data = np.random.rand(50000,4)\n",
    "# fake_df = pd.DataFrame({'signal_in_exp': fake_data[:, 0], 'upstream 1000': fake_data[:, 1], 'downstream 3000': fake_data[:, 2], 'expression': fake_data[:, 3]})\n",
    "model = LinearRegression().fit(X_train, y_train)\n",
    "print(model.score(X_test, y_test))\n"
   ]
  },
  {
   "cell_type": "code",
   "execution_count": 32,
   "metadata": {},
   "outputs": [],
   "source": [
    "from sklearn.svm import SVR\n",
    "from sklearn import linear_model\n",
    "from sklearn.metrics import mean_squared_error, r2_score"
   ]
  },
  {
   "cell_type": "code",
   "execution_count": 33,
   "metadata": {},
   "outputs": [
    {
     "data": {
      "text/plain": [
       "-0.21593370258836675"
      ]
     },
     "execution_count": 33,
     "metadata": {},
     "output_type": "execute_result"
    }
   ],
   "source": [
    "svr_poly = SVR(kernel='poly',gamma ='auto')\n",
    "svr_poly.fit(X_train, y_train)\n",
    "pred = svr_poly.predict(X_test)\n",
    "r2_score(y_test, pred)\n",
    "# svr_poly.score(X_test, y_test)"
   ]
  },
  {
   "cell_type": "code",
   "execution_count": 30,
   "metadata": {},
   "outputs": [
    {
     "data": {
      "text/plain": [
       "-0.0033732316767927095"
      ]
     },
     "execution_count": 30,
     "metadata": {},
     "output_type": "execute_result"
    }
   ],
   "source": [
    "clf = linear_model.Lasso(alpha=0.1)\n",
    "clf.fit(X_train, y_train)\n",
    "clf.score(X_test, y_test)"
   ]
  },
  {
   "cell_type": "code",
   "execution_count": null,
   "metadata": {},
   "outputs": [],
   "source": []
  }
 ],
 "metadata": {
  "kernelspec": {
   "display_name": "Python 3",
   "language": "python",
   "name": "python3"
  },
  "language_info": {
   "codemirror_mode": {
    "name": "ipython",
    "version": 3
   },
   "file_extension": ".py",
   "mimetype": "text/x-python",
   "name": "python",
   "nbconvert_exporter": "python",
   "pygments_lexer": "ipython3",
   "version": "3.6.8rc1"
  }
 },
 "nbformat": 4,
 "nbformat_minor": 4
}
